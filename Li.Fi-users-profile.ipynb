{
 "cells": [
  {
   "cell_type": "code",
   "execution_count": null,
   "id": "88fd1b27-e727-427f-9633-6632758acac3",
   "metadata": {},
   "outputs": [],
   "source": [
    "#startup template for Jupyter Notebook\n",
    "# activate tab completion so I won't shy away from descriptive vars\n",
    "%config IPCompleter.use_jedi = False\n",
    "%config IPCompleter.greedy = True\n",
    "%matplotlib inline"
   ]
  },
  {
   "cell_type": "code",
   "execution_count": 3,
   "id": "2e06b033-d389-4bcb-9925-1a69134c5ac7",
   "metadata": {},
   "outputs": [
    {
     "name": "stderr",
     "output_type": "stream",
     "text": [
      "/Users/davidenoch/Library/Python/3.9/lib/python/site-packages/urllib3/__init__.py:35: NotOpenSSLWarning: urllib3 v2 only supports OpenSSL 1.1.1+, currently the 'ssl' module is compiled with 'LibreSSL 2.8.3'. See: https://github.com/urllib3/urllib3/issues/3020\n",
      "  warnings.warn(\n"
     ]
    }
   ],
   "source": [
    "import numpy as np\n",
    "import pandas as pd\n",
    "import matplotlib.pyplot as plt\n",
    "import seaborn as sns\n",
    "import os\n",
    "import dotenv\n",
    "import requests\n",
    "import collections\n",
    "import warnings\n",
    "from datetime import date, time, datetime, timedelta\n",
    "from dateutil.relativedelta import relativedelta\n",
    "import matplotlib.dates as mdates\n",
    "from IPython.display import display, HTML, Markdown, Video, Javascript, Image\n",
    "# Allow for multiple outputs from one cell\n",
    "from IPython.core.interactiveshell import InteractiveShell\n",
    "InteractiveShell.ast_node_interactivity = \"all\"  # 'last' for last output other options: (last_expr, last_expr_or_assign, 'None')   \n",
    "from dotenv import load_dotenv\n",
    "\n",
    "\n",
    "\n"
   ]
  },
  {
   "cell_type": "code",
   "execution_count": 4,
   "id": "338e1e33-38d9-496f-808b-701bcf114fea",
   "metadata": {},
   "outputs": [
    {
     "data": {
      "text/plain": [
       "False"
      ]
     },
     "execution_count": 4,
     "metadata": {},
     "output_type": "execute_result"
    }
   ],
   "source": [
    "load_dotenv()"
   ]
  },
  {
   "cell_type": "markdown",
   "id": "603014f1-1638-4c4f-8bb2-3e6bd9819373",
   "metadata": {},
   "source": [
    "# Li.Fi users profiles"
   ]
  },
  {
   "cell_type": "markdown",
   "id": "c8c4a8b1-42a6-46c7-9647-df0f6e01361b",
   "metadata": {},
   "source": [
    "1. Integrators\n",
    "2. End-users\n",
    "3. jumper users"
   ]
  },
  {
   "cell_type": "markdown",
   "id": "d00a01ef-6080-440a-a2d7-29ec13fa5f7d",
   "metadata": {},
   "source": [
    "## Introduction"
   ]
  },
  {
   "cell_type": "markdown",
   "id": "e09cbe6b-31ce-4024-9aba-32bfbde8ab50",
   "metadata": {},
   "source": [
    "## Integrators"
   ]
  },
  {
   "cell_type": "markdown",
   "id": "ab240656-b29b-478b-aa06-25884dbed767",
   "metadata": {},
   "source": [
    "  - Transaction Volume\n",
    "  - Transaction frequency\n",
    "  - Average transaction size\n",
    "  - Number of users\n",
    "  - bridges\n",
    "  - chains\n",
    "  - tokens"
   ]
  },
  {
   "cell_type": "markdown",
   "id": "0b3db37f-09d2-49b8-8a3f-6e4b68eff54e",
   "metadata": {
    "jp-MarkdownHeadingCollapsed": true
   },
   "source": [
    "## End-users"
   ]
  },
  {
   "cell_type": "markdown",
   "id": "39f0e1ef-cbe7-4355-804f-c898e4364756",
   "metadata": {},
   "source": [
    "## Jumper end users"
   ]
  },
  {
   "cell_type": "code",
   "execution_count": null,
   "id": "6e53f75e-c0c5-4189-b130-3ec79a3b828b",
   "metadata": {},
   "outputs": [],
   "source": []
  }
 ],
 "metadata": {
  "kernelspec": {
   "display_name": "Python 3 (ipykernel)",
   "language": "python",
   "name": "python3"
  },
  "language_info": {
   "codemirror_mode": {
    "name": "ipython",
    "version": 3
   },
   "file_extension": ".py",
   "mimetype": "text/x-python",
   "name": "python",
   "nbconvert_exporter": "python",
   "pygments_lexer": "ipython3",
   "version": "3.9.6"
  },
  "widgets": {
   "application/vnd.jupyter.widget-state+json": {
    "state": {},
    "version_major": 2,
    "version_minor": 0
   }
  }
 },
 "nbformat": 4,
 "nbformat_minor": 5
}
