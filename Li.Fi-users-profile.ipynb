{
 "cells": [
  {
   "cell_type": "markdown",
   "id": "603014f1-1638-4c4f-8bb2-3e6bd9819373",
   "metadata": {},
   "source": [
    "# Li.Fi users profiles"
   ]
  },
  {
   "cell_type": "markdown",
   "id": "c8c4a8b1-42a6-46c7-9647-df0f6e01361b",
   "metadata": {},
   "source": [
    "1. Integrators\n",
    "2. End-users\n",
    "3. jumper users"
   ]
  },
  {
   "cell_type": "markdown",
   "id": "d00a01ef-6080-440a-a2d7-29ec13fa5f7d",
   "metadata": {},
   "source": [
    "## Introduction"
   ]
  },
  {
   "cell_type": "markdown",
   "id": "e09cbe6b-31ce-4024-9aba-32bfbde8ab50",
   "metadata": {},
   "source": [
    "## Integrators"
   ]
  },
  {
   "cell_type": "markdown",
   "id": "ab240656-b29b-478b-aa06-25884dbed767",
   "metadata": {},
   "source": [
    "  - Transaction Volume\n",
    "  - Transaction frequency\n",
    "  - Average transaction size\n",
    "  - Number of users\n",
    "  - bridges\n",
    "  - chains\n",
    "  - tokens"
   ]
  },
  {
   "cell_type": "markdown",
   "id": "0b3db37f-09d2-49b8-8a3f-6e4b68eff54e",
   "metadata": {
    "jp-MarkdownHeadingCollapsed": true
   },
   "source": [
    "## End-users"
   ]
  },
  {
   "cell_type": "markdown",
   "id": "39f0e1ef-cbe7-4355-804f-c898e4364756",
   "metadata": {},
   "source": [
    "## Jumper end users"
   ]
  },
  {
   "cell_type": "code",
   "execution_count": null,
   "id": "6e53f75e-c0c5-4189-b130-3ec79a3b828b",
   "metadata": {},
   "outputs": [],
   "source": []
  }
 ],
 "metadata": {
  "kernelspec": {
   "display_name": "Python 3 (ipykernel)",
   "language": "python",
   "name": "python3"
  },
  "language_info": {
   "codemirror_mode": {
    "name": "ipython",
    "version": 3
   },
   "file_extension": ".py",
   "mimetype": "text/x-python",
   "name": "python",
   "nbconvert_exporter": "python",
   "pygments_lexer": "ipython3",
   "version": "3.9.6"
  }
 },
 "nbformat": 4,
 "nbformat_minor": 5
}
